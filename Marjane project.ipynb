{
 "cells": [
  {
   "cell_type": "code",
   "execution_count": 1,
   "id": "8e67ac1c",
   "metadata": {},
   "outputs": [],
   "source": [
    "from bs4 import BeautifulSoup\n",
    "from selenium import webdriver\n",
    "from selenium.webdriver.common.keys import Keys\n",
    "from selenium.webdriver.support import expected_conditions as EC\n",
    "from selenium.webdriver.common.by import By\n",
    "from selenium.webdriver.support.wait import WebDriverWait\n",
    "import time\n",
    "import numpy as np\n",
    "import pandas as pd\n",
    "from tqdm.notebook import trange, tqdm, tqdm_notebook\n",
    "import requests"
   ]
  },
  {
   "cell_type": "code",
   "execution_count": 4,
   "id": "ff17f9de",
   "metadata": {},
   "outputs": [],
   "source": [
    "driver = webdriver.Firefox()"
   ]
  },
  {
   "cell_type": "code",
   "execution_count": 5,
   "id": "ea7825a5",
   "metadata": {},
   "outputs": [],
   "source": [
    "driver.get(\"https://www.marjane.ma/product/1-courses-en-ligne\")\n",
    "time.sleep(10)\n",
    "page_source = driver.page_source\n",
    "soup = BeautifulSoup(page_source, 'lxml')"
   ]
  },
  {
   "cell_type": "code",
   "execution_count": 15,
   "id": "bd1a103c",
   "metadata": {},
   "outputs": [],
   "source": [
    "s_list_level_1=soup.findAll(\"li\",{\"class\":\"jsx-1782791432 jsx-392234169\"})\n",
    "list_level_1=[]\n",
    "for i in range(len(s_list_level_1)):\n",
    "    list_level_1.append(\"https://www.marjane.ma\"+s_list_level_1[i].find(\"a\")[\"href\"])"
   ]
  },
  {
   "cell_type": "code",
   "execution_count": 52,
   "id": "cd208820",
   "metadata": {},
   "outputs": [
    {
     "data": {
      "application/vnd.jupyter.widget-view+json": {
       "model_id": "4003b70fb72f4e16ab85eee89c5e592a",
       "version_major": 2,
       "version_minor": 0
      },
      "text/plain": [
       "  0%|          | 0/19 [00:00<?, ?it/s]"
      ]
     },
     "metadata": {},
     "output_type": "display_data"
    }
   ],
   "source": [
    "list_level_2=[]\n",
    "for i in tqdm(range(len(list_level_1))):\n",
    "    driver.get(list_level_1[i])\n",
    "    WebDriverWait(driver, 20).until(EC.element_to_be_clickable((By.CSS_SELECTOR, \"li.jsx-1407372038:nth-child(1)\")))\n",
    "    \n",
    "    page_source = driver.page_source\n",
    "    soup = BeautifulSoup(page_source, 'lxml')\n",
    "    \n",
    "    level_2_amount=len(soup.find(\"div\",{\"class\":\"mobile-categories-list\"}).findAll(\"button\"))-1\n",
    "    \n",
    "    for l2a in range(level_2_amount):\n",
    "        l2aa=str(l2a+1)\n",
    "        WebDriverWait(driver, 20).until(EC.element_to_be_clickable((By.CSS_SELECTOR, \"ul.jsx-1407372038:nth-child(3) > li:nth-child(\"+l2aa+\")\"))).click()\n",
    "        time.sleep(10)\n",
    "        \n",
    "        page_source = driver.page_source\n",
    "        soup = BeautifulSoup(page_source, 'lxml')\n",
    "        \n",
    "        s_list_level_2=soup.find(\"ul\",{\"class\":\"deployed-list\"}).findAll(\"li\")\n",
    "        \n",
    "        \n",
    "        for l2 in range(len(s_list_level_2)):\n",
    "            list_level_2.append(\"https://www.marjane.ma\"+s_list_level_2[l2].find(\"a\")[\"href\"])"
   ]
  },
  {
   "cell_type": "code",
   "execution_count": 131,
   "id": "8adfe0eb",
   "metadata": {},
   "outputs": [],
   "source": [
    "def keep_scrolling_to_the_bottom():\n",
    "    while True:\n",
    "        previous_scrollY = driver.execute_script( 'return window.scrollY' )\n",
    "        driver.execute_script( 'window.scrollBy( 0, 300 )' )\n",
    "        time.sleep( 0.5 )\n",
    "        if previous_scrollY == driver.execute_script( 'return window.scrollY' ):\n",
    "            break"
   ]
  },
  {
   "cell_type": "code",
   "execution_count": 177,
   "id": "cc704f7e",
   "metadata": {},
   "outputs": [
    {
     "data": {
      "application/vnd.jupyter.widget-view+json": {
       "model_id": "e047bad5c86b47b985dfd6b8da7a0b3e",
       "version_major": 2,
       "version_minor": 0
      },
      "text/plain": [
       "  0%|          | 0/517 [00:00<?, ?it/s]"
      ]
     },
     "metadata": {},
     "output_type": "display_data"
    }
   ],
   "source": [
    "#empty data frame at first\n",
    "df=pd.read_csv(\"marjane.csv\")\n",
    "product_n=[]\n",
    "lv3=[]\n",
    "pn=[]\n",
    "l1=[]\n",
    "l2=[]\n",
    "l3=[]\n",
    "\n",
    "product_url=[]\n",
    "product_price=[]\n",
    "product_price_sub=[]\n",
    "product_price_fidelite=[]\n",
    "product_name=[]\n",
    "\n",
    "for i in tqdm(range(len(list_level_2))):\n",
    "    if list_level_2[i] in df[\"pn\"].unique():\n",
    "        pass\n",
    "    else:\n",
    "        driver.get(list_level_2[i])\n",
    "        lv3.append(list_level_2[i])\n",
    "        WebDriverWait(driver, 20).until(EC.element_to_be_clickable((By.CSS_SELECTOR, \"li.jsx-864416106:nth-child(1) > div:nth-child(1) > a:nth-child(1)\")))   \n",
    "        keep_scrolling_to_the_bottom()\n",
    "\n",
    "        time.sleep(5)\n",
    "        page_source = driver.page_source\n",
    "        soup = BeautifulSoup(page_source, 'lxml')\n",
    "\n",
    "        product_n.append(int(soup.find(\"p\",{\"class\":\"jsx-3735054823\"}).text.split(\" \")[0]))\n",
    "        try:\n",
    "            l1s=soup.find(\"ul\",{\"class\":\"jsx-508879282\"}).findAll(\"li\")[1].text.replace(\"\\xa0\",\" \").replace(\"- \",\" \").replace(\" -\",\" \").strip()\n",
    "            l2s=soup.find(\"ul\",{\"class\":\"jsx-508879282\"}).findAll(\"li\")[2].text.replace(\"\\xa0\",\" \").replace(\"- \",\" \").replace(\" -\",\" \").strip()\n",
    "            l3s=soup.find(\"ul\",{\"class\":\"jsx-508879282\"}).findAll(\"li\")[3].text.replace(\"\\xa0\",\" \").replace(\"- \",\" \").replace(\" -\",\" \").strip()\n",
    "        except:\n",
    "            l1s=np.nan\n",
    "            l2s=np.nan\n",
    "            l3s=np.nan\n",
    "\n",
    "        product_list=soup.findAll(\"li\",{\"class\":\"jsx-864416106\"})\n",
    "        \n",
    "        pn=[]\n",
    "        l1=[]\n",
    "        l2=[]\n",
    "        l3=[]\n",
    "\n",
    "        product_url=[]\n",
    "        product_price=[]\n",
    "        product_price_sub=[]\n",
    "        product_price_fidelite=[]\n",
    "        product_name=[]\n",
    "        for p in range(len(product_list)):\n",
    "            pn.append(list_level_2[i])\n",
    "            l1.append(l1s)\n",
    "            l2.append(l2s)\n",
    "            l3.append(l3s)\n",
    "\n",
    "            product_url.append(\"https://www.marjane.ma\"+product_list[p].find(\"a\")[\"href\"])\n",
    "            product_price.append(product_list[p].find(\"span\",{\"class\":\"price\"}).text)\n",
    "\n",
    "            try:\n",
    "                product_price_fidelite.append(product_list[p].find(\"span\",{\"class\":\"fidelity-price\"}).text)\n",
    "            except:\n",
    "                product_price_fidelite.append(np.nan)\n",
    "\n",
    "            try:\n",
    "                product_price_sub.append(product_list[p].find(\"span\",{\"class\":\"sub-price\"}).text)\n",
    "            except:\n",
    "                product_price_sub.append(np.nan)            \n",
    "\n",
    "            product_name.append(product_list[p].find(\"h2\").text)\n",
    "\n",
    "        ndf=pd.DataFrame({\"product_url\":product_url,\"product_name\":product_name,\"product_price\":product_price,\n",
    "                  \"product_price_sub\":product_price_sub,\"product_price_fidelite\":product_price_fidelite,\n",
    "                 \"category\":l1,\"sub_category\":l2,\"sub_sub_category\":l3,\n",
    "                      \"pn\":pn})\n",
    "        df=pd.concat([df,ndf]).reset_index(drop=True)\n",
    "        df.to_csv(\"marjane.csv\", encoding=\"utf-8-sig\",index=False)"
   ]
  },
  {
   "cell_type": "code",
   "execution_count": 182,
   "id": "7b76fcf3",
   "metadata": {},
   "outputs": [],
   "source": [
    "df[\"product_price\"]=df[\"product_price\"].apply(lambda x:float(x.split(\" \")[0].replace(\",\",\".\")))\n",
    "\n",
    "pps=[]\n",
    "for i in range(len(df)):\n",
    "    if pd.isna(df[\"product_price_sub\"].iloc[i]):\n",
    "        pps.append(np.nan)\n",
    "    else:\n",
    "        pps.append(float(df[\"product_price_sub\"].iloc[i].split(\" \")[0].replace(\",\",\".\")))\n",
    "df[\"product_price_sub\"]=pps\n",
    "\n",
    "ppf=[]\n",
    "for i in range(len(df)):\n",
    "    if pd.isna(df[\"product_price_fidelite\"].iloc[i]):\n",
    "        ppf.append(np.nan)\n",
    "    else:\n",
    "        ppf.append(float(df[\"product_price_fidelite\"].iloc[i].split(\" \")[0].replace(\",\",\".\")))\n",
    "df[\"product_price_fidelite\"]=ppf  \n",
    "\n",
    "df=df[pd.notna(df[\"category\"])].reset_index(drop=True)\n",
    "df=df[df[\"sub_sub_category\"].apply(lambda x:\"Voir tous les produits\" not in x)].reset_index(drop=True)"
   ]
  },
  {
   "cell_type": "code",
   "execution_count": 212,
   "id": "57ee98ad",
   "metadata": {},
   "outputs": [],
   "source": [
    "df.to_csv(\"marjane.csv\", encoding=\"utf-8-sig\",index=False)"
   ]
  },
  {
   "cell_type": "code",
   "execution_count": 214,
   "id": "4e368071",
   "metadata": {},
   "outputs": [
    {
     "name": "stderr",
     "output_type": "stream",
     "text": [
      "C:\\Users\\Jsh\\anaconda3\\lib\\site-packages\\pandas\\util\\_decorators.py:211: FutureWarning: the 'encoding' keyword is deprecated and will be removed in a future version. Please take steps to stop the use of 'encoding'\n",
      "  return func(*args, **kwargs)\n"
     ]
    }
   ],
   "source": [
    "df.to_excel(\"marjane.xlsx\", encoding=\"utf-8-sig\",index=False)"
   ]
  }
 ],
 "metadata": {
  "kernelspec": {
   "display_name": "Python 3 (ipykernel)",
   "language": "python",
   "name": "python3"
  },
  "language_info": {
   "codemirror_mode": {
    "name": "ipython",
    "version": 3
   },
   "file_extension": ".py",
   "mimetype": "text/x-python",
   "name": "python",
   "nbconvert_exporter": "python",
   "pygments_lexer": "ipython3",
   "version": "3.10.9"
  }
 },
 "nbformat": 4,
 "nbformat_minor": 5
}
